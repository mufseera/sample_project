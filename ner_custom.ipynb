{
 "cells": [
  {
   "cell_type": "code",
   "execution_count": 24,
   "metadata": {},
   "outputs": [],
   "source": [
    "#!pip install pandas"
   ]
  },
  {
   "cell_type": "code",
   "execution_count": 25,
   "metadata": {},
   "outputs": [],
   "source": [
    "#!pip install spacy==3.1.1"
   ]
  },
  {
   "cell_type": "code",
   "execution_count": 1,
   "metadata": {
    "id": "CI5zhYdRz8sC"
   },
   "outputs": [],
   "source": [
    "train_data = [\n",
    "(\"narrated 'umar bin alkhattab : i heard muhammad saying , the reward of deeds depends upon the intentions and every person will get the reward according to what he has intended . \", [ (10, 28, 'PERS'), (39, 47, 'PERS') ]),\n",
    "(\"so whoever emigrated for worldly benefits or for a woman to marry , his emigration was for what he emigrated for .\", [ (51, 56, 'PERS') ]),\n",
    "(\" narrated 'aisha : the mother of the faithful believers alharith bin hisham asked muhammad o muhammad how is the divine inspiration revealed to you .\", [ (11, 16, 'PERS'), (19, 55, 'PERS'), (56, 75, 'PERS'), (82, 90, 'PERS'), (93, 101, 'PERS') ]),\n",
    "(\"muhammad replied , sometimes it is revealed like the ringing of a bell , this form of inspiration is the hardest of all and then this state passes ' off after i have grasped what is inspired . \", [ (0, 8, 'PERS') ]),\n",
    "(\"sometimes the angel comes in the form of a man and talks to me and i grasp whatever he says .\", [ (14, 19, 'PERS') ]),\n",
    "(\"aisha added : verily i saw the prophet being inspired divinely on a very cold day and noticed the sweat dropping from his forehead as the inspiration was over . \", [ (0, 5, 'PERS'), (31, 38, 'PERS'), (72, 81, 'DATE') ]),\n",
    "(\" narrated aisha : the mother of the faithful believers the commencement of the divine inspiration to muhammad was in the form of good dreams which came true like bright day light , and then the love of seclusion was bestowed upon him . \", [ (10, 15, 'PERS'), (22, 54, 'PERS'), (101, 109, 'PERS'), (162, 178, 'DATE') ]),\n",
    "(\"he used to go in seclusion in the cave of hira where he used to worship allah alone continuously for many days before his desire to see his family.\", [ (34, 46, 'PLACE'), (71, 77, 'PERS') ]),\n",
    "(\" he used to take with him the journey food for the stay and then come back to his wife khadija to take his food like wise again till suddenly the truth descended upon him while he was in the cave of hira . \", [ (81, 86, 'PERS'), (87, 94, 'PERS'), (191, 203, 'PLACE') ]),\n",
    "(\"the angel came to him and asked him to read .\", [ (4, 9, 'PERS') ]),\n",
    "(\" the prophet replied , i do not know how to read . \", [ (5, 12, 'PERS') ]),\n",
    "(\"the prophet added , the angel caught me forcefully and pressed me so hard that i could not bear it any more . \", [ (4, 11, 'PERS'), (24, 29, 'PERS') ]),\n",
    "(\"he then released me and again asked me to read and i replied , 'i do not know how to read . \", [ ]),\n",
    "(\"' thereupon he caught me again and pressed me a second time till i could not bear it any more . \", [ ]),\n",
    "(\"he then released me and again asked me to read but again i replied , 'i do not know how to read or what shall i read ' thereupon he caught me for the third time and pressed me , and then released me and said , 'read in the name of your lord , who has created all that exists has created man from a clot .\", [ (236, 240, 'PERS') ]),\n",
    "(\" read and your lord is the most generous . \", [ ]),\n",
    "(\"then muhammad returned revelation with the inspiration and with his heart beating severely . \", [ (5, 13, 'PERS') ]),\n",
    "(\"then he went to khadija bint khuwailid and said , cover me cover me '' they covered him till his fear was over and after that he told her everything that had happened and said , i fear that something may happen to me .\", [ (16, 38, 'PERS') ]),\n",
    "(\" '' khadija replied , '' never by allah , allah will never disgrace you . \", [ (3, 11, 'PERS'), (33, 39, 'PERS'), (41, 47, 'PERS') ]),\n",
    "(\"you keep good relations with your kith and kin , help the poor and the destitute , serve your guests generously and assist the deserving calamityafflicted ones . \", [ ]),\n",
    "(\"'' khadija then accompanied him to her cousin waraqa bin naufal bin asad bin 'abdul 'uzza , who , during the preislamic period became a christian and used to write the writing with hebrew letters . \", [ (3, 10, 'PERS'), (46, 89, 'PERS'), (108, 126, 'DATE'), (135, 145, 'ORG') ]),\n",
    "(\"he would write from the gospel in hebrew as much as allah wished him to write . he was an old man and had lost his eyesight .\", [ (52, 57, 'PERS') ]),\n",
    "(\" khadija said to waraqa , listen to the story of your nephew , o my cousin '' waraqa asked , o my nephew what have you seen '' muhammad described whatever he had seen . waraqa said , this is the same one who keeps the secrets angel gabriel whom allah had sent to moses . \", [ (1, 8, 'PERS'), (17, 23, 'PERS'), (54, 60, 'PERS'), (78, 84, 'PERS'), (127, 135, 'PERS'), (169, 180, 'PERS'), (225, 231, 'PERS'), (232, 239, 'PERS'), (244, 250, 'PERS') ]),\n",
    "(\"i wish i were young and could live up to the time when your people would turn you out.\", [ ]),\n",
    "(\" muhammad asked , will they drive me out '' waraqa replied in the affirmative and said , '' anyone man who came with something similar to what you have brought was treated with hostil ity ; and if i should remain alive till the day when you will be turned out then i would support you strongly . \", [ (1, 9, 'PERS'), (44, 50, 'PERS') ]),\n",
    "(\"'' but after a few days waraqa died and the divine inspiration was also paused for a while . \", [ (24, 30, 'PERS') ]),\n",
    "(\"narrated jabir bin 'abdullah alansari while talking about the period of pause in revelation re porting the speech of the prophet while i was walking , all of a sudden i heard a voice from the sky . \", [ (8, 37, 'PERS'), (121, 128, 'PERS') ]),\n",
    "(\"i looked up and saw the same angel who had visited me at the cave of hira ' sitting on a chair between the sky and the earth .\", [ (29, 34, 'PERS'), (61, 73, 'PLACE'), (106, 124, 'PLACE') ]),\n",
    "(\" i got afraid of him and came back home and said , 'wrap me in blankets . ' and then allah revealed the following holy verses of quran : 'o you i.e . muhammad wrapped up in garments ' arise and warn the people against allah 's punishment ,  up to 'and desert the idols . \", [ (84, 90, 'PERS'), (149, 158, 'PERS'), (217, 223, 'PERS') ]),\n",
    "(\"after this the revelation started coming strongly , frequently and regularly . \", [ ]),\n",
    "(\"narrated said bin jubair : ibn 'abbas in the explanation of the statement of allah . \", [ (9, 37, 'PERS'), (76, 82, 'PERS') ]),\n",
    "(\"'move not your tongue concerning the quran to make haste therewith . \", [ (37, 42, 'book') ]),\n",
    "(\" said muhammad used to bear the revelation with great trouble and used to move his lips quickly with the inspiration . \", [ (5, 14, 'PERS') ]),\n",
    "(\"ibn 'abbas moved his lips saying , i am moving my lips in front of you as muhammad used to move his . \", [ (0, 10, 'PERS'), (73, 82, 'PERS') ]),\n",
    "(\" said moved his lips saying : i am moving my lips , as i saw ibn 'abbas moving his . '\", [ (60, 71, 'PERS') ]),\n",
    "(\"' ibn 'abbas added , so allah revealed 'move not your tongue concerning the qur'an to make haste therewith .\", [ (1, 12, 'PERS'), (24, 29, 'PERS'), (76, 82, 'book') ]),\n",
    "(\" it is for us to collect it and to give you o muhammad the ability to recite it the qur'an 75.1617 which means that allah will make him the prophet remember the portion of the qur'an which was revealed at that time by heart and recite it . \", [ (46, 54, 'PERS'), (84, 90, 'book'), (116, 121, 'PERS'), (140, 147, 'PERS'), (175, 182, 'book') ]),\n",
    "(\"the statement of allah : and 'when we have recited it to you o muhammad through gab revelation riel then you follow its qur'an recital  means 'listen to it and be silent .\", [ (17, 22, 'PERS'), (63, 71, 'PERS'), (120, 126, 'book') ]),\n",
    "(\" ' then it is for us al lah to make it clear to you ' 75.19 means 'then it is for allah to make you recite it and its mean ing will be clear by itself through your tongue .\", [ (81, 90, 'PERS') ]),\n",
    "(\" afterwards , muhammad used to listen to gabriel whenever he came and after his departure he used to recite it as gabriel had recited it .\", [ (14, 22, 'PERS'), (40, 48, 'PERS'), (113, 121, 'PERS') ]),\n",
    "(\"narrated ibn 'abbas : muhammad was the most generous of all the people , and he used to reach the peak in generos ity in the month of ramadan when gabriel met him . \", [ (8, 19, 'PERS'), (22, 30, 'PERS'), (124, 141, 'DATE'), (147, 154, 'PERS') ]),\n",
    "(\"gabriel used to meet him every night of ra madan to teach him the qur'an .\", [ (0, 7, 'PERS'), (31, 48, 'DATE'), (66, 72, 'book') ]),\n",
    "(\"muhammad was the most generous person , even more generous than the strong uncontrollable wind in readiness and haste to do charitable deeds . \", [ (0, 8, 'PERS') ]),\n",
    "(\"narrated 'abdullah bin 'abbas : abu sufyan bin harb informed me that heraclius had sent a messenger to him while he had been accompanying a caravan from quraish . \", [ (10, 29, 'PERS'), (32, 51, 'PERS'), (69, 78, 'PERS'), (88, 99, 'PERS'), (153, 160, 'ORG') ]),\n",
    "(\"they were merchants doing business in sham syria , palestine , lebanon and jordan , at the time when muhammad had truce with abu sufyan and quraish infidels . \", [ (38, 42, 'PLACE'), (43, 50, 'PLACE'), (51, 60, 'PLACE'), (63, 70, 'PLACE'), (74, 81, 'PLACE'), (101, 109, 'PERS'), (124, 135, 'PERS'), (140, 147, 'ORG') ]),\n",
    "(\"so abu sufyan and his companions went to heraclius at ilya jerusalem .\", [ (3, 13, 'PERS'), (22, 32, 'PERS'), (41, 50, 'PERS'), (53, 58, 'PLACE'), (59, 68, 'PLACE') ]),\n",
    "(\" heraclius called them in the court and he had all the senior roman dignitaries around him . \", [ (1, 10, 'PERS'), (55, 79, 'PERS') ]),\n",
    "(\"he called for his translator who , translating heraclius 's question said to them , who amongst you is closely related to that man who claims to be a prophet '' abu sufyan replied , i am the nearest relative to him amongst the group . \", [ (18, 28, 'PERS'), (47, 58, 'PERS'), (149, 157, 'PERS'), (161, 171, 'PERS') ]),\n",
    "(\"'' heraclius said , bring him abu sufyan close to me and make his companions stand behind him . \", [ (2, 12, 'PERS'), (29, 40, 'PERS') ]),\n",
    "(\"'' abu sufyan added , heraclius told his translator to tell my companions that he wanted to put some questions to me regarding that man the prophet and that if i told a lie they my companions should contradict me . \", [ (3, 13, 'PERS'), (22, 31, 'PERS'), (41, 51, 'PERS'), (63, 73, 'PERS'), (139, 147, 'PERS'), (181, 191, 'PERS') ]),\n",
    "(\"'' abu sufyan added , by allah had i not been afraid of my companions la beling me a liar , i would not have spoken the truth about the prophet . \", [ (4, 13, 'PERS'), (25, 30, 'PERS'), (56, 69, 'PERS'), (85, 89, 'PERS'), (136, 143, 'PERS') ]),\n",
    "(\"the first question he asked me about him was : 'what is his family status amongst you ' i replied , 'he belongs to a good noble family amongst us . \", [ (122, 134, 'ORG') ]),\n",
    "(\"' heraclius further asked , 'has anybody amongst you ever claimed the same i.e . to be a prophet before him ' i replied , 'no . \", [ (1, 11, 'PERS'), (89, 96, 'PERS') ]),\n",
    "(\"' he said , 'was anybody amongst his ancestors a king ' i replied , 'no .\", [ (37, 46, 'ORG') ]),\n",
    "(\"revelation heraclius asked , 'do the nobles or the poor follow him ' i replied , 'it is the poor who follow him . \", [ (11, 20, 'PERS') ]),\n",
    "(\" he said , 'are his followers increasing decreasing day by day ' i replied , 'they are increasing . \", [ ]),\n",
    "(\" he then asked , 'does anybody amongst those who embrace his religion become displeased and re nounce the religion afterwards ' i replied , 'no . '\", [ (61, 69, 'ORG') ]),\n",
    "(\"heraclius said , 'have you ever accused him of telling lies before his claim to be a prophet ' i replied , 'no . \", [ (0, 9, 'PERS'), (84, 92, 'PERS') ]),\n",
    "(\" heraclius said , 'does he break his promises ' i replied , 'no . we are at truce with him but we do not know what he will do in it . \", [ (1, 10, 'PERS') ]),\n",
    "(\" i could not find opportunity to say anything against him except that . \", [ ]),\n",
    "(\"heraclius asked , 'have you ever had a war with him ' i replied , 'yes . '\", [ (0, 9, 'PERS') ]),\n",
    "(\" then he said , 'what was the outcome of the battles ' i replied , 'sometimes he was victorious and sometimes we . \", [ ]),\n",
    "(\"' heraclius said , 'what does he order you to do ' i said , 'he tells us to worship allah and allah alone and not to worship anything along with him , and to renounce all that our ancestors had said .\", [ (2, 11, 'PERS'), (84, 89, 'PERS'), (94, 99, 'PERS'), (180, 189, 'ORG') ]),\n",
    "(\" he orders us to pray , to speak the truth , to be chaste and to keep good relations with our kith and kin . \", [ ]),\n",
    "(\"' heraclius asked the translator to convey to me the following , i asked you about his family and your reply was that he belonged to a very noble family .\", [ (2, 11, 'PERS'), (21, 32, 'PERS'), (87, 93, 'ORG') ]),\n",
    "(\" in fact all the apostles come from noble fam ilies amongst their respective peoples .\", [ ]),\n",
    "(\" i questioned you whether anybody else amongst you claimed such a thing , your reply was in the negative .\", [ ]),\n",
    "(\" if the answer had been in the affirmative , i would have thought that this man was following the previous man 's statement . \", [ (98, 110, 'PERS') ]),\n",
    "(\"then i asked you whether anyone of his ancestors was a king .\", [ (39, 48, 'ORG'), (55, 59, 'PERS') ]),\n",
    "(\" your reply was in the negative , and if it had been in the affirmative , i would have thought that this man wanted to take back his ancestral kingdom .\", [ (132, 150, 'ORG') ]),\n",
    "(\" i further asked whether he was ever accused of telling lies before he said what he said , and your reply was in the negative .\", [ ]),\n",
    "(\" so i wondered how a person who does not tell a lie about others could ever tell a lie about allah . \", [ (92, 98, 'PERS') ]),\n",
    "(\"i , then asked you whether the rich people followed him or the poor . \", [ (30, 42, 'PERS') ]),\n",
    "(\"you replied that it was the poor who followed him . \", [ ]),\n",
    "(\"and in fact all the apostle have been followed by this very class of people . \", [ ]),\n",
    "(\"then i asked you whether his followers were increasing or decreasing . \", [ ]),\n",
    "(\"you replied that they were increasing , and in fact this is the way of true faith , till it is complete in all respects . \", [ ]),\n",
    "(\"i further asked you whether there was anybody , who , after embracing his religion , became displeased and discarded his religion . \", [ (73, 82, 'ORG'), (120, 129, 'ORG') ]),\n",
    "(\"your reply was in the negative , and in fact this is the sign of true faith , when its delight enters the hearts and mixes with them completely .\", [ ]),\n",
    "(\" i asked you whether he had ever betrayed . \", [ ]),\n",
    "(\"you replied in the negative and likewise the apostles never betray .\", [ ]),\n",
    "(\" then i asked you what he ordered you to do . \", [ ]),\n",
    "(\"you replied that he ordered you to worship allah and allah alone and not to worship any thing along with him and forbade you to worship idols and ordered you to pray , to speak the truth and to be chaste .\", [ (42, 48, 'PERS'), (52, 58, 'PERS') ]),\n",
    "(\" if what you have said is true , he will very soon occupy this place underneath my feet and i knew it from the scriptures that he was going to appear but i did not know that he would be from you , and if i could reach him definitely , i would go immediately to meet him and if i were with him , i would certainly wash his feet .\", [ (111, 121, 'book') ]),\n",
    "(\" ' heraclius then asked for the letter ad dressed by muhammad which was delivered by dihya to the governor of busra , who forwarded it to heraclius to read . \", [ (3, 11, 'PERS'), (53, 61, 'PERS'), (97, 115, 'PERS'), (137, 147, 'PERS') ]),\n",
    "(\"the contents of the letter were as follows : in the name of allah the beneficent , the merciful this letter is from muhammad the slave of allah and his apostle to heraclius the ruler of byzantine . \", [ (59, 65, 'PERS'), (116, 124, 'PERS'), (138, 143, 'PERS'), (163, 172, 'PERS'), (177, 182, 'PERS'), (185, 197, 'PLACE') ]),\n",
    "(\"peace be upon him , who follows the right path . \", [ ]),\n",
    "(\"furthermore i invite you to islam , and if you become a muslim you will be safe , and allah will double your reward , and if you reject this invitation of is lam you will be committing a sin by misguiding your arisiyin peasants .\", [ (27, 33, 'ORG'), (56, 62, 'ORG'), (86, 91, 'PERS'), (154, 161, 'ORG') ]),\n",
    "(\" and i recite to you allah 's statement : 'o people of the scripture come to a word common to you and us that we worship none but allah and that we associate nothing in worship with him , and that none of us shall take others as lords beside allah .\", [ (21, 26, 'PERS'), (130, 135, 'PERS'), (241, 247, 'PERS') ]),\n",
    "(\" then , if they turn away , say : bear witness that we are muslims those who have sur rendered to allah . \", [ (59, 66, 'ORG'), (98, 103, 'PERS') ]),\n",
    "(\" abu sufyan then added , when heraclius had finished his speech and had read the letter , there was a great hue and cry in the royal court .\", [ (1, 11, 'PERS'), (30, 39, 'PERS'), (127, 138, 'PLACE') ]),\n",
    "(\" so we were turned out of the court . \", [ (30, 35, 'PLACE') ]),\n",
    "(\"i told my companions that the question of ibnabikabsha the muhammad has become so prominent that even the king of bani alasfar byzantine is afraid of him . \", [ (41, 54, 'PERS'), (58, 67, 'PERS'), (106, 136, 'PERS') ]),\n",
    "(\"then i started to become sure that he the prophet would be the conqueror in the near future till i embraced islam i.e . allah guided me to it . \", [ (42, 49, 'PERS'), (63, 72, 'PERS'), (108, 113, 'ORG'), (120, 125, 'PERS') ]),\n",
    "(\"'' the sub narrator adds , ibn annatur was the governor of llya ' jerusalem and heraclius was the head of the christians of sham .\", [ (7, 19, 'PERS'), (27, 38, 'PERS'), (47, 55, 'PERS'), (79, 89, 'PERS'), (110, 120, 'ORG'), (123, 128, 'PLACE') ]),\n",
    "(\" ibn annatur narrates that once while heraclius was visiting ilya ' jerusalem , he got up in the morning with a sad mood . \", [ (1, 12, 'PERS'), (38, 47, 'PERS'), (61, 65, 'PLACE'), (68, 77, 'PLACE') ]),\n",
    "(\"some of his priests asked him why he was in that mood heraclius was a foreteller and an astrologer .\", [ (12, 19, 'PERS'), (54, 63, 'PERS'), (70, 80, 'PERS'), (88, 98, 'PERS') ]),\n",
    "(\" he replied , 'at night when i looked at the stars , i saw that the leader of those who practice circumcision had appeared become the conqueror . \", [ ]),\n",
    "(\"who are they who practice circumcision ' the people replied , 'except the jews nobody practices circumcision , so you should not be afraid of them jews . \", [ (74, 78, 'ORG'), (146, 151, 'ORG') ]),\n",
    "(\"'just issue orders to kill every jew present in the country . ' while they were discussing it , a messenger sent by the king of ghassan to convey the news of mohammed to heraclius was brought in . \", [ (32, 36, 'ORG'), (52, 59, 'PLACE'), (98, 107, 'PERS'), (120, 135, 'PERS'), (157, 166, 'PERS'), (169, 179, 'PERS') ]),\n",
    "(\"having heard the news , he heraclius ordered the people  to go and see whether the messenger of ghassan was circumcised . \", [ (27, 36, 'PERS'), (83, 103, 'PERS') ]),\n",
    "(\"the people , after seeing him , told heraclius that he was circumcised .\", [ (37, 46, 'PERS') ]),\n",
    "(\" heraclius then asked him about the arabs . \", [ (1, 10, 'PERS') ]),\n",
    "(\"the messenger replied , 'arabs also practice circumcision . \", [ (24, 30, 'ORG') ]),\n",
    "(\"after hearing that heraclius remarked that sovereignty of the 'arabs had appeared . \", [ (19, 28, 'PERS'), (61, 68, 'ORG') ]),\n",
    "(\"heraclius then wrote a letter to his friend in rome who was as good as heraclius in knowledge .\", [ (0, 9, 'PERS'), (71, 80, 'PERS') ]),\n",
    "(\" heraclius then left for homs . a town in syrian and stayed there till he received the reply of his letter from his friend who agreed with him in his opinion about the emergence of the prophet and the fact that he was a prophet .\", [ (1, 10, 'PERS'), (42, 48, 'PLACE'), (185, 192, 'PERS'), (220, 227, 'PERS') ]),\n",
    "(\" on that heraclius invited all the heads of the byzantines to assemble in his palace at homs . \", [ (9, 18, 'PERS'), (48, 58, 'PERS'), (78, 92, 'PLACE') ]),\n",
    "(\"when they assembled , he ordered that all the doors of his palace be closed . \", [ (59, 65, 'PLACE') ]),\n",
    "(\"then he came out and said , 'o byzantines if success is your desire and if you seek right guidance and want your empire to remain then give a pledge of allegiance to this prophet i.e . embrace islam .\", [ (31, 41, 'PERS'), (171, 177, 'PERS'), (192, 200, 'ORG') ]),\n",
    "(\" ' on hearing the views of heraclius the people ran towards the gates of the palace like onagers but found the doors closed . \", [ (27, 36, 'PERS') ]),\n",
    "(\"heraclius realized their hatred towards islam and when he lost the hope of their embracing islam , he ordered that they should be brought back in audience . \", [ (0, 9, 'PERS') ]),\n",
    "(\"when they returned he said , 'what already said was just to test the strength of your conviction and i have seen it . \", [ ]),\n",
    "(\"' the people prostrated before him and became pleased with him , and this was the end of heraclius 's story in connection with his faith . \", [ (88, 98, 'PERS') ]),\n",
    "(\"\", [ ]),\n",
    "]"
   ]
  },
  {
   "cell_type": "code",
   "execution_count": 4,
   "metadata": {
    "id": "3OHqhP3PbBEL"
   },
   "outputs": [
    {
     "name": "stdout",
     "output_type": "stream",
     "text": [
      "3.1.1\n"
     ]
    }
   ],
   "source": [
    "import pandas as pd\n",
    "import spacy\n",
    "print(spacy.__version__)"
   ]
  },
  {
   "cell_type": "code",
   "execution_count": 5,
   "metadata": {
    "id": "mVTRT09haqik"
   },
   "outputs": [],
   "source": [
    "# reformatting the training data to apply for spacy\n",
    "k = pd.DataFrame({\"Text\":(pd.Series(train_data).apply(lambda x :x[0])),\n",
    "                  \"T_Index\":(pd.Series(train_data).apply(lambda x: {\"entities\":x[1]}))})"
   ]
  },
  {
   "cell_type": "code",
   "execution_count": 6,
   "metadata": {
    "id": "ISehyT8sbLUW"
   },
   "outputs": [],
   "source": [
    "TRAIN_DATA = list(k[[\"Text\",\"T_Index\"]].itertuples(index =  False, name =None))"
   ]
  },
  {
   "cell_type": "code",
   "execution_count": 7,
   "metadata": {
    "colab": {
     "base_uri": "https://localhost:8080/"
    },
    "id": "X2oAykFPbL3G",
    "outputId": "2bb60584-bd06-4ea4-c891-b5a85ef66647"
   },
   "outputs": [
    {
     "data": {
      "text/plain": [
       "[(\"narrated 'umar bin alkhattab : i heard muhammad saying , the reward of deeds depends upon the intentions and every person will get the reward according to what he has intended . \",\n",
       "  {'entities': [(10, 28, 'PERS'), (39, 47, 'PERS')]}),\n",
       " ('so whoever emigrated for worldly benefits or for a woman to marry , his emigration was for what he emigrated for .',\n",
       "  {'entities': [(51, 56, 'PERS')]}),\n",
       " (\" narrated 'aisha : the mother of the faithful believers alharith bin hisham asked muhammad o muhammad how is the divine inspiration revealed to you .\",\n",
       "  {'entities': [(11, 16, 'PERS'),\n",
       "    (19, 55, 'PERS'),\n",
       "    (56, 75, 'PERS'),\n",
       "    (82, 90, 'PERS'),\n",
       "    (93, 101, 'PERS')]})]"
      ]
     },
     "execution_count": 7,
     "metadata": {},
     "output_type": "execute_result"
    }
   ],
   "source": [
    "TRAIN_DATA[0:3]"
   ]
  },
  {
   "cell_type": "code",
   "execution_count": 26,
   "metadata": {
    "id": "El4wjf8td4d5"
   },
   "outputs": [],
   "source": [
    "#!python -m spacy download en_core_web_sm"
   ]
  },
  {
   "cell_type": "markdown",
   "metadata": {
    "id": "aFjLfbU5cXYo"
   },
   "source": [
    "### conversion of data to .spacy format"
   ]
  },
  {
   "cell_type": "code",
   "execution_count": 9,
   "metadata": {
    "id": "6CKmmgGOcUts"
   },
   "outputs": [],
   "source": [
    "import pandas as pd\n",
    "import os\n",
    "from tqdm import tqdm\n",
    "import spacy\n",
    "from spacy.tokens import DocBin\n"
   ]
  },
  {
   "cell_type": "code",
   "execution_count": 10,
   "metadata": {
    "id": "ZfV5JpXlcWtS"
   },
   "outputs": [],
   "source": [
    "# nlp  = spacy.blank(\"en\") # load the new spacy model\n",
    "nlp = spacy.load(\"en_core_web_sm\") # load the spacy model"
   ]
  },
  {
   "cell_type": "code",
   "execution_count": 11,
   "metadata": {
    "id": "nCEFKREoeDdk"
   },
   "outputs": [],
   "source": [
    "db = DocBin() # create a DocBin object"
   ]
  },
  {
   "cell_type": "code",
   "execution_count": 12,
   "metadata": {
    "colab": {
     "base_uri": "https://localhost:8080/"
    },
    "id": "UiWrCCwudvga",
    "outputId": "7d4db2a0-5ec3-458e-8c4f-373439d4a8e9"
   },
   "outputs": [
    {
     "name": "stderr",
     "output_type": "stream",
     "text": [
      "100%|██████████| 115/115 [00:00<00:00, 405.33it/s]"
     ]
    },
    {
     "name": "stdout",
     "output_type": "stream",
     "text": [
      "skipping entity\n",
      "skipping entity\n"
     ]
    },
    {
     "name": "stderr",
     "output_type": "stream",
     "text": [
      "\n"
     ]
    }
   ],
   "source": [
    "for text, annot in tqdm(TRAIN_DATA):\n",
    "  doc = nlp.make_doc(text) # create a doc object from text\n",
    "  ents = []\n",
    "  for start, end, label in annot[\"entities\"]:# add character indexes\n",
    "    span =doc.char_span(start, end, label=label, alignment_mode=\"contract\")\n",
    "    if span is None:\n",
    "      print(\"skipping entity\")\n",
    "    else:\n",
    "      ents.append(span)\n",
    "  doc.ents =ents # label the text with ents\n",
    "  db.add(doc)\n",
    "\n",
    "  "
   ]
  },
  {
   "cell_type": "code",
   "execution_count": 14,
   "metadata": {},
   "outputs": [],
   "source": [
    "os.chdir(r\"C:\\Users\\Shameer\\Desktop\\sample_project\")\n",
    "db.to_disk(\"./train.spacy\")"
   ]
  },
  {
   "cell_type": "markdown",
   "metadata": {
    "id": "ywJXNDu6g7TU"
   },
   "source": [
    "### creating the config file for training the model"
   ]
  },
  {
   "cell_type": "code",
   "execution_count": 19,
   "metadata": {
    "colab": {
     "base_uri": "https://localhost:8080/"
    },
    "id": "_tZBMl0NeNAz",
    "outputId": "ee0c56f3-4ef0-4538-8168-53cba598d044"
   },
   "outputs": [
    {
     "data": {
      "text/plain": [
       "'C:\\\\Users\\\\Shameer\\\\Desktop\\\\sample_project'"
      ]
     },
     "execution_count": 19,
     "metadata": {},
     "output_type": "execute_result"
    }
   ],
   "source": [
    "pwd"
   ]
  },
  {
   "cell_type": "code",
   "execution_count": 16,
   "metadata": {
    "colab": {
     "base_uri": "https://localhost:8080/"
    },
    "id": "rLd7v3szh_1R",
    "outputId": "b0b397a4-306b-41eb-ed4a-5de4b650d25f"
   },
   "outputs": [
    {
     "name": "stdout",
     "output_type": "stream",
     "text": [
      "[+] Auto-filled config with all values\n",
      "[+] Saved config\n",
      "config.cfg\n",
      "You can now add your data and train your pipeline:\n",
      "python -m spacy train config.cfg --paths.train ./train.spacy --paths.dev ./dev.spacy\n"
     ]
    }
   ],
   "source": [
    "!python -m spacy init fill-config base_config.cfg config.cfg"
   ]
  },
  {
   "cell_type": "markdown",
   "metadata": {
    "id": "wliv-TjSkTJA"
   },
   "source": [
    "### Run the training configuration"
   ]
  },
  {
   "cell_type": "code",
   "execution_count": 17,
   "metadata": {
    "colab": {
     "base_uri": "https://localhost:8080/"
    },
    "id": "qYHPn64pjtEk",
    "outputId": "1f0820a0-5036-4ce1-ddde-f9b682cd9e0d"
   },
   "outputs": [
    {
     "name": "stdout",
     "output_type": "stream",
     "text": [
      "[+] Created output directory: output\n",
      "[i] Using CPU\n",
      "\u001b[1m\n",
      "=========================== Initializing pipeline ===========================\u001b[0m\n",
      "[+] Initialized pipeline\n",
      "\u001b[1m\n",
      "============================= Training pipeline =============================\u001b[0m\n",
      "[i] Pipeline: ['tok2vec', 'ner']\n",
      "[i] Initial learn rate: 0.001\n",
      "E    #       LOSS TOK2VEC  LOSS NER  ENTS_F  ENTS_P  ENTS_R  SCORE \n",
      "---  ------  ------------  --------  ------  ------  ------  ------\n",
      "  0       0          0.00     43.09    0.00    0.00    0.00    0.00\n",
      "  6     200         57.34   1714.75   75.05   73.31   76.89    0.75\n",
      " 13     400        107.11    445.59   97.77   98.21   97.33    0.98\n",
      " 22     600         84.81    125.38   99.11   99.11   99.11    0.99\n",
      " 34     800         51.79     81.41   99.11   99.55   98.67    0.99\n",
      " 49    1000         70.26     88.48   99.56   99.56   99.56    1.00\n",
      " 67    1200        149.85     91.06   99.55  100.00   99.11    1.00\n",
      " 89    1400         68.13     74.26   99.56   99.56   99.56    1.00\n",
      "116    1600         66.29     66.66   99.78  100.00   99.56    1.00\n",
      "148    1800         18.20     26.36  100.00  100.00  100.00    1.00\n",
      "188    2000          0.75      0.21  100.00  100.00  100.00    1.00\n",
      "237    2200         98.68     32.64  100.00  100.00  100.00    1.00\n",
      "295    2400        206.77     34.99  100.00  100.00  100.00    1.00\n",
      "362    2600        129.68     19.59  100.00  100.00  100.00    1.00\n",
      "428    2800         83.46      9.16  100.00  100.00  100.00    1.00\n",
      "495    3000        269.62     18.69  100.00  100.00  100.00    1.00\n",
      "561    3200         47.84      6.94  100.00  100.00  100.00    1.00\n",
      "628    3400         90.37     11.65  100.00  100.00  100.00    1.00\n",
      "[+] Saved pipeline to output directory\n",
      "output\\model-last\n"
     ]
    },
    {
     "name": "stderr",
     "output_type": "stream",
     "text": [
      "[2022-01-08 19:04:27,539] [INFO] Set up nlp object from config\n",
      "[2022-01-08 19:04:27,555] [INFO] Pipeline: ['tok2vec', 'ner']\n",
      "[2022-01-08 19:04:27,555] [INFO] Created vocabulary\n",
      "[2022-01-08 19:04:27,570] [INFO] Finished initializing nlp object\n",
      "[2022-01-08 19:04:28,211] [INFO] Initialized pipeline components: ['tok2vec', 'ner']\n"
     ]
    }
   ],
   "source": [
    "!python -m spacy train config.cfg --output ./output --paths.train ./train.spacy --paths.dev ./train.spacy  "
   ]
  },
  {
   "cell_type": "code",
   "execution_count": 20,
   "metadata": {},
   "outputs": [],
   "source": [
    "nlp = spacy.load(\"C:\\\\Users\\\\Shameer\\\\Desktop\\\\sample_project\\\\output\\\\model-best\")"
   ]
  },
  {
   "cell_type": "code",
   "execution_count": 21,
   "metadata": {},
   "outputs": [],
   "source": [
    "doc = nlp(\"'umar bin al-khattab : i heard allah 's apostle saying , `` the reward of deeds depends upon the intentions and every person will get the reward according to what he has intended . so whoever emigrated for worldly benefits or for a woman to marry , his emigration was for what he emigrated for . '' volume 1 , book 1 , number 2 : narrated 'aisha : ( the mother of the faithful believers ) al-harith bin hisham asked allah 's apostle `` o allah 's apostle ! how is the divine inspiration revealed to you ? '' allah 's apostle replied , `` sometimes it is ( re- vealed ) like the ringing of a bell , this form of inspiration is the hardest of all and then this state passes ' off after i have grasped what is inspired . sometimes the angel comes in the form of a man and talks to me and i grasp whatever he says . '' 'aisha added : verily i saw the prophet being inspired divinely on a very cold day and noticed the sweat dropping from his forehead ( as the inspiration was over ) . volume 1 , book 1 , number 3 : narrated 'aisha : ( the mother of the faithful believers ) the commencement of the divine inspiration to allah 's apostle was in the form of good dreams which came true like bright day light , and then the love of seclusion was bestowed upon him . he used to go in seclusion in the cave of hira where he used to worship ( allah alone ) continuously for many days before his desire to see his family . he used to take with him the journey food for the stay and then come back to ( his wife ) khadija to take his food like- wise again till suddenly the truth descended upon him while he was in the cave of hira . the angel came to him and asked him to read .\")"
   ]
  },
  {
   "cell_type": "code",
   "execution_count": 23,
   "metadata": {},
   "outputs": [
    {
     "data": {
      "text/html": [
       "<span class=\"tex2jax_ignore\"><div class=\"entities\" style=\"line-height: 2.5; direction: ltr\">'\n",
       "<mark class=\"entity\" style=\"background: #ddd; padding: 0.45em 0.6em; margin: 0 0.25em; line-height: 1; border-radius: 0.35em;\">\n",
       "    umar bin al-\n",
       "    <span style=\"font-size: 0.8em; font-weight: bold; line-height: 1; border-radius: 0.35em; vertical-align: middle; margin-left: 0.5rem\">PERS</span>\n",
       "</mark>\n",
       "khattab : i heard \n",
       "<mark class=\"entity\" style=\"background: #ddd; padding: 0.45em 0.6em; margin: 0 0.25em; line-height: 1; border-radius: 0.35em;\">\n",
       "    allah\n",
       "    <span style=\"font-size: 0.8em; font-weight: bold; line-height: 1; border-radius: 0.35em; vertical-align: middle; margin-left: 0.5rem\">PERS</span>\n",
       "</mark>\n",
       " 's apostle saying , `` the reward of deeds depends upon the intentions and every person will get the reward according to what he has intended . so whoever emigrated for worldly benefits or for a \n",
       "<mark class=\"entity\" style=\"background: #ddd; padding: 0.45em 0.6em; margin: 0 0.25em; line-height: 1; border-radius: 0.35em;\">\n",
       "    woman\n",
       "    <span style=\"font-size: 0.8em; font-weight: bold; line-height: 1; border-radius: 0.35em; vertical-align: middle; margin-left: 0.5rem\">PERS</span>\n",
       "</mark>\n",
       " to marry , his emigration was for what he emigrated for . '' volume 1 , book 1 , number 2 : narrated '\n",
       "<mark class=\"entity\" style=\"background: #ddd; padding: 0.45em 0.6em; margin: 0 0.25em; line-height: 1; border-radius: 0.35em;\">\n",
       "    aisha\n",
       "    <span style=\"font-size: 0.8em; font-weight: bold; line-height: 1; border-radius: 0.35em; vertical-align: middle; margin-left: 0.5rem\">PERS</span>\n",
       "</mark>\n",
       " : ( the \n",
       "<mark class=\"entity\" style=\"background: #ddd; padding: 0.45em 0.6em; margin: 0 0.25em; line-height: 1; border-radius: 0.35em;\">\n",
       "    mother of the faithful believers\n",
       "    <span style=\"font-size: 0.8em; font-weight: bold; line-height: 1; border-radius: 0.35em; vertical-align: middle; margin-left: 0.5rem\">PERS</span>\n",
       "</mark>\n",
       " ) al-harith bin hisham asked \n",
       "<mark class=\"entity\" style=\"background: #ddd; padding: 0.45em 0.6em; margin: 0 0.25em; line-height: 1; border-radius: 0.35em;\">\n",
       "    allah\n",
       "    <span style=\"font-size: 0.8em; font-weight: bold; line-height: 1; border-radius: 0.35em; vertical-align: middle; margin-left: 0.5rem\">PERS</span>\n",
       "</mark>\n",
       " 's apostle `` o \n",
       "<mark class=\"entity\" style=\"background: #ddd; padding: 0.45em 0.6em; margin: 0 0.25em; line-height: 1; border-radius: 0.35em;\">\n",
       "    allah\n",
       "    <span style=\"font-size: 0.8em; font-weight: bold; line-height: 1; border-radius: 0.35em; vertical-align: middle; margin-left: 0.5rem\">PERS</span>\n",
       "</mark>\n",
       " 's apostle ! how is the divine inspiration revealed to you ? '' \n",
       "<mark class=\"entity\" style=\"background: #ddd; padding: 0.45em 0.6em; margin: 0 0.25em; line-height: 1; border-radius: 0.35em;\">\n",
       "    allah\n",
       "    <span style=\"font-size: 0.8em; font-weight: bold; line-height: 1; border-radius: 0.35em; vertical-align: middle; margin-left: 0.5rem\">PERS</span>\n",
       "</mark>\n",
       " 's apostle replied , `` sometimes it is ( re- vealed ) like the ringing of a bell , this form of inspiration is the hardest of all and then this state passes ' off after i have grasped what is inspired . sometimes the \n",
       "<mark class=\"entity\" style=\"background: #ddd; padding: 0.45em 0.6em; margin: 0 0.25em; line-height: 1; border-radius: 0.35em;\">\n",
       "    angel\n",
       "    <span style=\"font-size: 0.8em; font-weight: bold; line-height: 1; border-radius: 0.35em; vertical-align: middle; margin-left: 0.5rem\">PERS</span>\n",
       "</mark>\n",
       " comes in the form of a man and talks to me and i grasp whatever he says . '' '\n",
       "<mark class=\"entity\" style=\"background: #ddd; padding: 0.45em 0.6em; margin: 0 0.25em; line-height: 1; border-radius: 0.35em;\">\n",
       "    aisha\n",
       "    <span style=\"font-size: 0.8em; font-weight: bold; line-height: 1; border-radius: 0.35em; vertical-align: middle; margin-left: 0.5rem\">PERS</span>\n",
       "</mark>\n",
       " added : verily i saw the \n",
       "<mark class=\"entity\" style=\"background: #ddd; padding: 0.45em 0.6em; margin: 0 0.25em; line-height: 1; border-radius: 0.35em;\">\n",
       "    prophet\n",
       "    <span style=\"font-size: 0.8em; font-weight: bold; line-height: 1; border-radius: 0.35em; vertical-align: middle; margin-left: 0.5rem\">PERS</span>\n",
       "</mark>\n",
       " being inspired divinely on a very \n",
       "<mark class=\"entity\" style=\"background: #bfe1d9; padding: 0.45em 0.6em; margin: 0 0.25em; line-height: 1; border-radius: 0.35em;\">\n",
       "    cold day\n",
       "    <span style=\"font-size: 0.8em; font-weight: bold; line-height: 1; border-radius: 0.35em; vertical-align: middle; margin-left: 0.5rem\">DATE</span>\n",
       "</mark>\n",
       " and noticed the sweat dropping from his forehead ( as the inspiration was over ) . volume 1 , book 1 , number 3 : narrated '\n",
       "<mark class=\"entity\" style=\"background: #ddd; padding: 0.45em 0.6em; margin: 0 0.25em; line-height: 1; border-radius: 0.35em;\">\n",
       "    aisha\n",
       "    <span style=\"font-size: 0.8em; font-weight: bold; line-height: 1; border-radius: 0.35em; vertical-align: middle; margin-left: 0.5rem\">PERS</span>\n",
       "</mark>\n",
       " : ( the \n",
       "<mark class=\"entity\" style=\"background: #ddd; padding: 0.45em 0.6em; margin: 0 0.25em; line-height: 1; border-radius: 0.35em;\">\n",
       "    mother of the faithful believers\n",
       "    <span style=\"font-size: 0.8em; font-weight: bold; line-height: 1; border-radius: 0.35em; vertical-align: middle; margin-left: 0.5rem\">PERS</span>\n",
       "</mark>\n",
       " ) the commencement of the divine inspiration to \n",
       "<mark class=\"entity\" style=\"background: #ddd; padding: 0.45em 0.6em; margin: 0 0.25em; line-height: 1; border-radius: 0.35em;\">\n",
       "    allah\n",
       "    <span style=\"font-size: 0.8em; font-weight: bold; line-height: 1; border-radius: 0.35em; vertical-align: middle; margin-left: 0.5rem\">PERS</span>\n",
       "</mark>\n",
       " 's apostle was in the form of good dreams which came true like \n",
       "<mark class=\"entity\" style=\"background: #bfe1d9; padding: 0.45em 0.6em; margin: 0 0.25em; line-height: 1; border-radius: 0.35em;\">\n",
       "    bright day light\n",
       "    <span style=\"font-size: 0.8em; font-weight: bold; line-height: 1; border-radius: 0.35em; vertical-align: middle; margin-left: 0.5rem\">DATE</span>\n",
       "</mark>\n",
       " , and then the love of seclusion was bestowed upon him . he used to go in seclusion in the \n",
       "<mark class=\"entity\" style=\"background: #ddd; padding: 0.45em 0.6em; margin: 0 0.25em; line-height: 1; border-radius: 0.35em;\">\n",
       "    cave of hira\n",
       "    <span style=\"font-size: 0.8em; font-weight: bold; line-height: 1; border-radius: 0.35em; vertical-align: middle; margin-left: 0.5rem\">PLACE</span>\n",
       "</mark>\n",
       " where he used to worship ( \n",
       "<mark class=\"entity\" style=\"background: #ddd; padding: 0.45em 0.6em; margin: 0 0.25em; line-height: 1; border-radius: 0.35em;\">\n",
       "    allah\n",
       "    <span style=\"font-size: 0.8em; font-weight: bold; line-height: 1; border-radius: 0.35em; vertical-align: middle; margin-left: 0.5rem\">PERS</span>\n",
       "</mark>\n",
       " alone ) continuously for many days before his desire to see his family . he used to take with him the journey food for the stay and then come back to ( his \n",
       "<mark class=\"entity\" style=\"background: #ddd; padding: 0.45em 0.6em; margin: 0 0.25em; line-height: 1; border-radius: 0.35em;\">\n",
       "    wife\n",
       "    <span style=\"font-size: 0.8em; font-weight: bold; line-height: 1; border-radius: 0.35em; vertical-align: middle; margin-left: 0.5rem\">PERS</span>\n",
       "</mark>\n",
       " ) \n",
       "<mark class=\"entity\" style=\"background: #ddd; padding: 0.45em 0.6em; margin: 0 0.25em; line-height: 1; border-radius: 0.35em;\">\n",
       "    khadija\n",
       "    <span style=\"font-size: 0.8em; font-weight: bold; line-height: 1; border-radius: 0.35em; vertical-align: middle; margin-left: 0.5rem\">PERS</span>\n",
       "</mark>\n",
       " to take his food like- wise again till suddenly the truth descended upon him while he was in the \n",
       "<mark class=\"entity\" style=\"background: #ddd; padding: 0.45em 0.6em; margin: 0 0.25em; line-height: 1; border-radius: 0.35em;\">\n",
       "    cave of hira\n",
       "    <span style=\"font-size: 0.8em; font-weight: bold; line-height: 1; border-radius: 0.35em; vertical-align: middle; margin-left: 0.5rem\">PLACE</span>\n",
       "</mark>\n",
       " . the \n",
       "<mark class=\"entity\" style=\"background: #ddd; padding: 0.45em 0.6em; margin: 0 0.25em; line-height: 1; border-radius: 0.35em;\">\n",
       "    angel\n",
       "    <span style=\"font-size: 0.8em; font-weight: bold; line-height: 1; border-radius: 0.35em; vertical-align: middle; margin-left: 0.5rem\">PERS</span>\n",
       "</mark>\n",
       " came to him and asked him to read .</div></span>"
      ],
      "text/plain": [
       "<IPython.core.display.HTML object>"
      ]
     },
     "metadata": {},
     "output_type": "display_data"
    }
   ],
   "source": [
    "spacy.displacy.render(doc,style =\"ent\",jupyter =True) # dispaly in jupyter"
   ]
  },
  {
   "cell_type": "code",
   "execution_count": null,
   "metadata": {},
   "outputs": [],
   "source": []
  }
 ],
 "metadata": {
  "accelerator": "GPU",
  "colab": {
   "collapsed_sections": [],
   "name": "ner_custom",
   "provenance": []
  },
  "kernelspec": {
   "display_name": "Python 3 (ipykernel)",
   "language": "python",
   "name": "python3"
  },
  "language_info": {
   "codemirror_mode": {
    "name": "ipython",
    "version": 3
   },
   "file_extension": ".py",
   "mimetype": "text/x-python",
   "name": "python",
   "nbconvert_exporter": "python",
   "pygments_lexer": "ipython3",
   "version": "3.7.11"
  }
 },
 "nbformat": 4,
 "nbformat_minor": 1
}
