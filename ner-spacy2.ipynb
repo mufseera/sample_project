{
 "cells": [
  {
   "cell_type": "code",
   "execution_count": 7,
   "id": "6ec43e6b",
   "metadata": {},
   "outputs": [],
   "source": [
    "import spacy\n",
    "import random\n",
    "import pandas as pd"
   ]
  },
  {
   "cell_type": "code",
   "execution_count": 8,
   "id": "2cf3e347",
   "metadata": {},
   "outputs": [],
   "source": [
    "TRAIN_DATA = [\n",
    "(\"narrated 'umar bin alkhattab : i heard muhammad saying , the reward of deeds depends upon the intentions and every person will get the reward according to what he has intended . \", [ (10, 28, 'PERS'), (39, 47, 'PERS') ]),\n",
    "(\"so whoever emigrated for worldly benefits or for a woman to marry , his emigration was for what he emigrated for .\", [ (51, 56, 'PERS') ]),\n",
    "(\" narrated 'aisha : the mother of the faithful believers alharith bin hisham asked muhammad o muhammad how is the divine inspiration revealed to you .\", [ (11, 16, 'PERS'), (19, 55, 'PERS'), (56, 75, 'PERS'), (82, 90, 'PERS'), (93, 101, 'PERS') ]),\n",
    "(\"muhammad replied , sometimes it is revealed like the ringing of a bell , this form of inspiration is the hardest of all and then this state passes ' off after i have grasped what is inspired . \", [ (0, 8, 'PERS') ]),\n",
    "(\"sometimes the angel comes in the form of a man and talks to me and i grasp whatever he says .\", [ (14, 19, 'PERS') ]),\n",
    "(\"aisha added : verily i saw the prophet being inspired divinely on a very cold day and noticed the sweat dropping from his forehead as the inspiration was over . \", [ (0, 5, 'PERS'), (31, 38, 'PERS'), (72, 81, 'DATE') ]),\n",
    "(\" narrated aisha : the mother of the faithful believers the commencement of the divine inspiration to muhammad was in the form of good dreams which came true like bright day light , and then the love of seclusion was bestowed upon him . \", [ (10, 15, 'PERS'), (22, 54, 'PERS'), (101, 109, 'PERS'), (162, 178, 'DATE') ]),\n",
    "(\"he used to go in seclusion in the cave of hira where he used to worship allah alone continuously for many days before his desire to see his family.\", [ (34, 46, 'PLACE'), (71, 77, 'PERS') ]),\n",
    "(\" he used to take with him the journey food for the stay and then come back to his wife khadija to take his food like wise again till suddenly the truth descended upon him while he was in the cave of hira . \", [ (81, 86, 'PERS'), (87, 94, 'PERS'), (191, 203, 'PLACE') ]),\n",
    "(\"the angel came to him and asked him to read .\", [ (4, 9, 'PERS') ]),\n",
    "(\" the prophet replied , i do not know how to read . \", [ (5, 12, 'PERS') ]),\n",
    "(\"the prophet added , the angel caught me forcefully and pressed me so hard that i could not bear it any more . \", [ (4, 11, 'PERS'), (24, 29, 'PERS') ]),\n",
    "(\"he then released me and again asked me to read and i replied , 'i do not know how to read . \", [ ]),\n",
    "(\"' thereupon he caught me again and pressed me a second time till i could not bear it any more . \", [ ]),\n",
    "(\"he then released me and again asked me to read but again i replied , 'i do not know how to read or what shall i read ' thereupon he caught me for the third time and pressed me , and then released me and said , 'read in the name of your lord , who has created all that exists has created man from a clot .\", [ (236, 240, 'PERS') ]),\n",
    "(\" read and your lord is the most generous . \", [ ]),\n",
    "(\"then muhammad returned revelation with the inspiration and with his heart beating severely . \", [ (5, 13, 'PERS') ]),\n",
    "(\"then he went to khadija bint khuwailid and said , cover me cover me '' they covered him till his fear was over and after that he told her everything that had happened and said , i fear that something may happen to me .\", [ (16, 38, 'PERS') ]),\n",
    "(\" '' khadija replied , '' never by allah , allah will never disgrace you . \", [ (3, 11, 'PERS'), (33, 39, 'PERS'), (41, 47, 'PERS') ]),\n",
    "(\"you keep good relations with your kith and kin , help the poor and the destitute , serve your guests generously and assist the deserving calamityafflicted ones . \", [ ]),\n",
    "(\"'' khadija then accompanied him to her cousin waraqa bin naufal bin asad bin 'abdul 'uzza , who , during the preislamic period became a christian and used to write the writing with hebrew letters . \", [ (3, 10, 'PERS'), (46, 89, 'PERS'), (108, 126, 'DATE'), (135, 145, 'ORG') ]),\n",
    "(\"he would write from the gospel in hebrew as much as allah wished him to write . he was an old man and had lost his eyesight .\", [ (52, 57, 'PERS') ]),\n",
    "(\" khadija said to waraqa , listen to the story of your nephew , o my cousin '' waraqa asked , o my nephew what have you seen '' muhammad described whatever he had seen . waraqa said , this is the same one who keeps the secrets angel gabriel whom allah had sent to moses . \", [ (1, 8, 'PERS'), (17, 23, 'PERS'), (54, 60, 'PERS'), (78, 84, 'PERS'), (127, 135, 'PERS'), (169, 180, 'PERS'), (225, 231, 'PERS'), (232, 239, 'PERS'), (244, 250, 'PERS') ]),\n",
    "(\"i wish i were young and could live up to the time when your people would turn you out.\", [ ]),\n",
    "(\" muhammad asked , will they drive me out '' waraqa replied in the affirmative and said , '' anyone man who came with something similar to what you have brought was treated with hostil ity ; and if i should remain alive till the day when you will be turned out then i would support you strongly . \", [ (1, 9, 'PERS'), (44, 50, 'PERS') ]),\n",
    "(\"'' but after a few days waraqa died and the divine inspiration was also paused for a while . \", [ (24, 30, 'PERS') ]),\n",
    "(\"narrated jabir bin 'abdullah alansari while talking about the period of pause in revelation re porting the speech of the prophet while i was walking , all of a sudden i heard a voice from the sky . \", [ (8, 37, 'PERS'), (121, 128, 'PERS') ]),\n",
    "(\"i looked up and saw the same angel who had visited me at the cave of hira ' sitting on a chair between the sky and the earth .\", [ (29, 34, 'PERS'), (61, 73, 'PLACE'), (106, 124, 'PLACE') ]),\n",
    "(\" i got afraid of him and came back home and said , 'wrap me in blankets . ' and then allah revealed the following holy verses of quran : 'o you i.e . muhammad wrapped up in garments ' arise and warn the people against allah 's punishment ,  up to 'and desert the idols . \", [ (84, 90, 'PERS'), (149, 158, 'PERS'), (217, 223, 'PERS') ]),\n",
    "(\"after this the revelation started coming strongly , frequently and regularly . \", [ ]),\n",
    "(\"narrated said bin jubair : ibn 'abbas in the explanation of the statement of allah . \", [ (9, 37, 'PERS'), (76, 82, 'PERS') ]),\n",
    "(\"'move not your tongue concerning the quran to make haste therewith . \", [ (37, 42, 'book') ]),\n",
    "(\" said muhammad used to bear the revelation with great trouble and used to move his lips quickly with the inspiration . \", [ (5, 14, 'PERS') ]),\n",
    "(\"ibn 'abbas moved his lips saying , i am moving my lips in front of you as muhammad used to move his . \", [ (0, 10, 'PERS'), (73, 82, 'PERS') ]),\n",
    "(\" said moved his lips saying : i am moving my lips , as i saw ibn 'abbas moving his . '\", [ (60, 71, 'PERS') ]),\n",
    "(\"' ibn 'abbas added , so allah revealed 'move not your tongue concerning the qur'an to make haste therewith .\", [ (1, 12, 'PERS'), (24, 29, 'PERS'), (76, 82, 'book') ]),\n",
    "(\" it is for us to collect it and to give you o muhammad the ability to recite it the qur'an 75.1617 which means that allah will make him the prophet remember the portion of the qur'an which was revealed at that time by heart and recite it . \", [ (46, 54, 'PERS'), (84, 90, 'book'), (116, 121, 'PERS'), (140, 147, 'PERS'), (175, 182, 'book') ]),\n",
    "(\"the statement of allah : and 'when we have recited it to you o muhammad through gab revelation riel then you follow its qur'an recital  means 'listen to it and be silent .\", [ (17, 22, 'PERS'), (63, 71, 'PERS'), (120, 126, 'book') ]),\n",
    "(\" ' then it is for us al lah to make it clear to you ' 75.19 means 'then it is for allah to make you recite it and its mean ing will be clear by itself through your tongue .\", [ (81, 90, 'PERS') ]),\n",
    "(\" afterwards , muhammad used to listen to gabriel whenever he came and after his departure he used to recite it as gabriel had recited it .\", [ (14, 22, 'PERS'), (40, 48, 'PERS'), (113, 121, 'PERS') ]),\n",
    "(\"narrated ibn 'abbas : muhammad was the most generous of all the people , and he used to reach the peak in generos ity in the month of ramadan when gabriel met him . \", [ (8, 19, 'PERS'), (22, 30, 'PERS'), (124, 141, 'DATE'), (147, 154, 'PERS') ]),\n",
    "(\"gabriel used to meet him every night of ra madan to teach him the qur'an .\", [ (0, 7, 'PERS'), (31, 48, 'DATE'), (66, 72, 'book') ]),\n",
    "(\"muhammad was the most generous person , even more generous than the strong uncontrollable wind in readiness and haste to do charitable deeds . \", [ (0, 8, 'PERS') ]),\n",
    "(\"narrated 'abdullah bin 'abbas : abu sufyan bin harb informed me that heraclius had sent a messenger to him while he had been accompanying a caravan from quraish . \", [ (10, 29, 'PERS'), (32, 51, 'PERS'), (69, 78, 'PERS'), (88, 99, 'PERS'), (153, 160, 'ORG') ]),\n",
    "(\"they were merchants doing business in sham syria , palestine , lebanon and jordan , at the time when muhammad had truce with abu sufyan and quraish infidels . \", [ (38, 42, 'PLACE'), (43, 50, 'PLACE'), (51, 60, 'PLACE'), (63, 70, 'PLACE'), (74, 81, 'PLACE'), (101, 109, 'PERS'), (124, 135, 'PERS'), (140, 147, 'ORG') ]),\n",
    "(\"so abu sufyan and his companions went to heraclius at ilya jerusalem .\", [ (3, 13, 'PERS'), (22, 32, 'PERS'), (41, 50, 'PERS'), (53, 58, 'PLACE'), (59, 68, 'PLACE') ]),\n",
    "(\" heraclius called them in the court and he had all the senior roman dignitaries around him . \", [ (1, 10, 'PERS'), (55, 79, 'PERS') ]),\n",
    "(\"he called for his translator who , translating heraclius 's question said to them , who amongst you is closely related to that man who claims to be a prophet '' abu sufyan replied , i am the nearest relative to him amongst the group . \", [ (18, 28, 'PERS'), (47, 58, 'PERS'), (149, 157, 'PERS'), (161, 171, 'PERS') ]),\n",
    "(\"'' heraclius said , bring him abu sufyan close to me and make his companions stand behind him . \", [ (2, 12, 'PERS'), (29, 40, 'PERS') ]),\n",
    "(\"'' abu sufyan added , heraclius told his translator to tell my companions that he wanted to put some questions to me regarding that man the prophet and that if i told a lie they my companions should contradict me . \", [ (3, 13, 'PERS'), (22, 31, 'PERS'), (41, 51, 'PERS'), (63, 73, 'PERS'), (139, 147, 'PERS'), (181, 191, 'PERS') ]),\n",
    "(\"'' abu sufyan added , by allah had i not been afraid of my companions la beling me a liar , i would not have spoken the truth about the prophet . \", [ (4, 13, 'PERS'), (25, 30, 'PERS'), (56, 69, 'PERS'), (85, 89, 'PERS'), (136, 143, 'PERS') ]),\n",
    "(\"the first question he asked me about him was : 'what is his family status amongst you ' i replied , 'he belongs to a good noble family amongst us . \", [ (122, 134, 'ORG') ]),\n",
    "(\"' heraclius further asked , 'has anybody amongst you ever claimed the same i.e . to be a prophet before him ' i replied , 'no . \", [ (1, 11, 'PERS'), (89, 96, 'PERS') ]),\n",
    "(\"' he said , 'was anybody amongst his ancestors a king ' i replied , 'no .\", [ (37, 46, 'ORG') ]),\n",
    "(\"revelation heraclius asked , 'do the nobles or the poor follow him ' i replied , 'it is the poor who follow him . \", [ (11, 20, 'PERS') ]),\n",
    "(\" he said , 'are his followers increasing decreasing day by day ' i replied , 'they are increasing . \", [ ]),\n",
    "(\" he then asked , 'does anybody amongst those who embrace his religion become displeased and re nounce the religion afterwards ' i replied , 'no . '\", [ (61, 69, 'ORG') ]),\n",
    "(\"heraclius said , 'have you ever accused him of telling lies before his claim to be a prophet ' i replied , 'no . \", [ (0, 9, 'PERS'), (84, 92, 'PERS') ]),\n",
    "(\" heraclius said , 'does he break his promises ' i replied , 'no . we are at truce with him but we do not know what he will do in it . \", [ (1, 10, 'PERS') ]),\n",
    "(\" i could not find opportunity to say anything against him except that . \", [ ]),\n",
    "(\"heraclius asked , 'have you ever had a war with him ' i replied , 'yes . '\", [ (0, 9, 'PERS') ]),\n",
    "(\" then he said , 'what was the outcome of the battles ' i replied , 'sometimes he was victorious and sometimes we . \", [ ]),\n",
    "(\"' heraclius said , 'what does he order you to do ' i said , 'he tells us to worship allah and allah alone and not to worship anything along with him , and to renounce all that our ancestors had said .\", [ (2, 11, 'PERS'), (84, 89, 'PERS'), (94, 99, 'PERS'), (180, 189, 'ORG') ]),\n",
    "(\" he orders us to pray , to speak the truth , to be chaste and to keep good relations with our kith and kin . \", [ ]),\n",
    "(\"' heraclius asked the translator to convey to me the following , i asked you about his family and your reply was that he belonged to a very noble family .\", [ (2, 11, 'PERS'), (21, 32, 'PERS'), (87, 93, 'ORG') ]),\n",
    "(\" in fact all the apostles come from noble fam ilies amongst their respective peoples .\", [ ]),\n",
    "(\" i questioned you whether anybody else amongst you claimed such a thing , your reply was in the negative .\", [ ]),\n",
    "(\" if the answer had been in the affirmative , i would have thought that this man was following the previous man 's statement . \", [ (98, 110, 'PERS') ]),\n",
    "(\"then i asked you whether anyone of his ancestors was a king .\", [ (39, 48, 'ORG'), (55, 59, 'PERS') ]),\n",
    "(\" your reply was in the negative , and if it had been in the affirmative , i would have thought that this man wanted to take back his ancestral kingdom .\", [ (132, 150, 'ORG') ]),\n",
    "(\" i further asked whether he was ever accused of telling lies before he said what he said , and your reply was in the negative .\", [ ]),\n",
    "(\" so i wondered how a person who does not tell a lie about others could ever tell a lie about allah . \", [ (92, 98, 'PERS') ]),\n",
    "(\"i , then asked you whether the rich people followed him or the poor . \", [ (30, 42, 'PERS') ]),\n",
    "(\"you replied that it was the poor who followed him . \", [ ]),\n",
    "(\"and in fact all the apostle have been followed by this very class of people . \", [ ]),\n",
    "(\"then i asked you whether his followers were increasing or decreasing . \", [ ]),\n",
    "(\"you replied that they were increasing , and in fact this is the way of true faith , till it is complete in all respects . \", [ ]),\n",
    "(\"i further asked you whether there was anybody , who , after embracing his religion , became displeased and discarded his religion . \", [ (73, 82, 'ORG'), (120, 129, 'ORG') ]),\n",
    "(\"your reply was in the negative , and in fact this is the sign of true faith , when its delight enters the hearts and mixes with them completely .\", [ ]),\n",
    "(\" i asked you whether he had ever betrayed . \", [ ]),\n",
    "(\"you replied in the negative and likewise the apostles never betray .\", [ ]),\n",
    "(\" then i asked you what he ordered you to do . \", [ ]),\n",
    "(\"you replied that he ordered you to worship allah and allah alone and not to worship any thing along with him and forbade you to worship idols and ordered you to pray , to speak the truth and to be chaste .\", [ (42, 48, 'PERS'), (52, 58, 'PERS') ]),\n",
    "(\" if what you have said is true , he will very soon occupy this place underneath my feet and i knew it from the scriptures that he was going to appear but i did not know that he would be from you , and if i could reach him definitely , i would go immediately to meet him and if i were with him , i would certainly wash his feet .\", [ (111, 121, 'book') ]),\n",
    "(\" ' heraclius then asked for the letter ad dressed by muhammad which was delivered by dihya to the governor of busra , who forwarded it to heraclius to read . \", [ (3, 11, 'PERS'), (53, 61, 'PERS'), (97, 115, 'PERS'), (137, 147, 'PERS') ]),\n",
    "(\"the contents of the letter were as follows : in the name of allah the beneficent , the merciful this letter is from muhammad the slave of allah and his apostle to heraclius the ruler of byzantine . \", [ (59, 65, 'PERS'), (116, 124, 'PERS'), (138, 143, 'PERS'), (163, 172, 'PERS'), (177, 182, 'PERS'), (185, 197, 'PLACE') ]),\n",
    "(\"peace be upon him , who follows the right path . \", [ ]),\n",
    "(\"furthermore i invite you to islam , and if you become a muslim you will be safe , and allah will double your reward , and if you reject this invitation of is lam you will be committing a sin by misguiding your arisiyin peasants .\", [ (27, 33, 'ORG'), (56, 62, 'ORG'), (86, 91, 'PERS'), (154, 161, 'ORG') ]),\n",
    "(\" and i recite to you allah 's statement : 'o people of the scripture come to a word common to you and us that we worship none but allah and that we associate nothing in worship with him , and that none of us shall take others as lords beside allah .\", [ (21, 26, 'PERS'), (130, 135, 'PERS'), (241, 247, 'PERS') ]),\n",
    "(\" then , if they turn away , say : bear witness that we are muslims those who have sur rendered to allah . \", [ (59, 66, 'ORG'), (98, 103, 'PERS') ]),\n",
    "(\" abu sufyan then added , when heraclius had finished his speech and had read the letter , there was a great hue and cry in the royal court .\", [ (1, 11, 'PERS'), (30, 39, 'PERS'), (127, 138, 'PLACE') ]),\n",
    "(\" so we were turned out of the court . \", [ (30, 35, 'PLACE') ]),\n",
    "(\"i told my companions that the question of ibnabikabsha the muhammad has become so prominent that even the king of bani alasfar byzantine is afraid of him . \", [ (41, 54, 'PERS'), (58, 67, 'PERS'), (106, 136, 'PERS') ]),\n",
    "(\"then i started to become sure that he the prophet would be the conqueror in the near future till i embraced islam i.e . allah guided me to it . \", [ (42, 49, 'PERS'), (63, 72, 'PERS'), (108, 113, 'ORG'), (120, 125, 'PERS') ]),\n",
    "(\"'' the sub narrator adds , ibn annatur was the governor of llya ' jerusalem and heraclius was the head of the christians of sham .\", [ (7, 19, 'PERS'), (27, 38, 'PERS'), (47, 55, 'PERS'), (79, 89, 'PERS'), (110, 120, 'ORG'), (123, 128, 'PLACE') ]),\n",
    "(\" ibn annatur narrates that once while heraclius was visiting ilya ' jerusalem , he got up in the morning with a sad mood . \", [ (1, 12, 'PERS'), (38, 47, 'PERS'), (61, 65, 'PLACE'), (68, 77, 'PLACE') ]),\n",
    "(\"some of his priests asked him why he was in that mood heraclius was a foreteller and an astrologer .\", [ (12, 19, 'PERS'), (54, 63, 'PERS'), (70, 80, 'PERS'), (88, 98, 'PERS') ]),\n",
    "(\" he replied , 'at night when i looked at the stars , i saw that the leader of those who practice circumcision had appeared become the conqueror . \", [ ]),\n",
    "(\"who are they who practice circumcision ' the people replied , 'except the jews nobody practices circumcision , so you should not be afraid of them jews . \", [ (74, 78, 'ORG'), (146, 151, 'ORG') ]),\n",
    "(\"'just issue orders to kill every jew present in the country . ' while they were discussing it , a messenger sent by the king of ghassan to convey the news of mohammed to heraclius was brought in . \", [ (32, 36, 'ORG'), (52, 59, 'PLACE'), (98, 107, 'PERS'), (120, 135, 'PERS'), (157, 166, 'PERS'), (169, 179, 'PERS') ]),\n",
    "(\"having heard the news , he heraclius ordered the people  to go and see whether the messenger of ghassan was circumcised . \", [ (27, 36, 'PERS'), (83, 103, 'PERS') ]),\n",
    "(\"the people , after seeing him , told heraclius that he was circumcised .\", [ (37, 46, 'PERS') ]),\n",
    "(\" heraclius then asked him about the arabs . \", [ (1, 10, 'PERS') ]),\n",
    "(\"the messenger replied , 'arabs also practice circumcision . \", [ (24, 30, 'ORG') ]),\n",
    "(\"after hearing that heraclius remarked that sovereignty of the 'arabs had appeared . \", [ (19, 28, 'PERS'), (61, 68, 'ORG') ]),\n",
    "(\"heraclius then wrote a letter to his friend in rome who was as good as heraclius in knowledge .\", [ (0, 9, 'PERS'), (71, 80, 'PERS') ]),\n",
    "(\" heraclius then left for homs . a town in syrian and stayed there till he received the reply of his letter from his friend who agreed with him in his opinion about the emergence of the prophet and the fact that he was a prophet .\", [ (1, 10, 'PERS'), (42, 48, 'PLACE'), (185, 192, 'PERS'), (220, 227, 'PERS') ]),\n",
    "(\" on that heraclius invited all the heads of the byzantines to assemble in his palace at homs . \", [ (9, 18, 'PERS'), (48, 58, 'PERS'), (78, 92, 'PLACE') ]),\n",
    "(\"when they assembled , he ordered that all the doors of his palace be closed . \", [ (59, 65, 'PLACE') ]),\n",
    "(\"then he came out and said , 'o byzantines if success is your desire and if you seek right guidance and want your empire to remain then give a pledge of allegiance to this prophet i.e . embrace islam .\", [ (31, 41, 'PERS'), (171, 177, 'PERS'), (192, 200, 'ORG') ]),\n",
    "(\" ' on hearing the views of heraclius the people ran towards the gates of the palace like onagers but found the doors closed . \", [ (27, 36, 'PERS') ]),\n",
    "(\"heraclius realized their hatred towards islam and when he lost the hope of their embracing islam , he ordered that they should be brought back in audience . \", [ (0, 9, 'PERS') ]),\n",
    "(\"when they returned he said , 'what already said was just to test the strength of your conviction and i have seen it . \", [ ]),\n",
    "(\"' the people prostrated before him and became pleased with him , and this was the end of heraclius 's story in connection with his faith . \", [ (88, 98, 'PERS') ]),\n",
    "]"
   ]
  },
  {
   "cell_type": "code",
   "execution_count": 9,
   "id": "996fd17c",
   "metadata": {},
   "outputs": [],
   "source": [
    "# Reformatting the training data to apply the function\n",
    "k = pd.DataFrame({'Text': (pd.Series(TRAIN_DATA).apply(lambda x: x[0])),\n",
    "               'T_Index' : (pd.Series(TRAIN_DATA).apply(lambda x: {'entities':x[1]}))})\n",
    "\n",
    "TRAIN_DATA = list(k[['Text', 'T_Index']].itertuples(index=False, name=None))"
   ]
  },
  {
   "cell_type": "code",
   "execution_count": 10,
   "id": "3d556c00",
   "metadata": {},
   "outputs": [
    {
     "data": {
      "text/plain": [
       "114"
      ]
     },
     "execution_count": 10,
     "metadata": {},
     "output_type": "execute_result"
    }
   ],
   "source": [
    "len(TRAIN_DATA)\n"
   ]
  },
  {
   "cell_type": "code",
   "execution_count": 11,
   "id": "466cedd2",
   "metadata": {},
   "outputs": [],
   "source": [
    "# training function\n",
    "def train_spacy(data,iterations):\n",
    "    TRAIN_DATA = data\n",
    "    nlp = spacy.load('en_core_web_lg')\n",
    "    ner = nlp.get_pipe('ner')\n",
    "    # create blank Language class\n",
    "    # create the built-in pipeline components and add them to the pipeline\n",
    "    # nlp.create_pipe works for built-ins that are registered with spaCy\n",
    "    if 'ner' not in nlp.pipe_names:\n",
    "        ner = nlp.create_pipe('ner')\n",
    "        nlp.add_pipe(ner, last=True)\n",
    "       \n",
    "\n",
    "    # add labels\n",
    "    for _, annotations in TRAIN_DATA:\n",
    "         for ent in annotations.get('entities'):\n",
    "            ner.add_label(ent[2])\n",
    "\n",
    "    # get names of other pipes to disable them during training\n",
    "    other_pipes = [pipe for pipe in nlp.pipe_names if pipe != 'ner']\n",
    "    with nlp.disable_pipes(*other_pipes):  # only train NER\n",
    "        optimizer = nlp.begin_training()\n",
    "        for itn in range(iterations):\n",
    "            print(\"Statring iteration \" + str(itn))\n",
    "            random.shuffle(TRAIN_DATA)\n",
    "            losses = {}\n",
    "            for text, annotations in TRAIN_DATA:\n",
    "                nlp.update(\n",
    "                    [text],  # batch of texts\n",
    "                    [annotations],  # batch of annotations\n",
    "                    drop=0.2,  # dropout - make it harder to memorise data\n",
    "                    sgd=optimizer,  # callable to update weights\n",
    "                    losses=losses)\n",
    "            print(losses)\n",
    "    return nlp\n"
   ]
  },
  {
   "cell_type": "code",
   "execution_count": null,
   "id": "acd2c994",
   "metadata": {},
   "outputs": [],
   "source": []
  },
  {
   "cell_type": "code",
   "execution_count": 12,
   "id": "bc18f646",
   "metadata": {},
   "outputs": [
    {
     "name": "stdout",
     "output_type": "stream",
     "text": [
      "Statring iteration 0\n",
      "{'ner': 1510.1904296533826}\n",
      "Statring iteration 1\n",
      "{'ner': 1057.5145899644099}\n",
      "Statring iteration 2\n",
      "{'ner': 1014.4174764246862}\n",
      "Statring iteration 3\n",
      "{'ner': 906.8856704687873}\n",
      "Statring iteration 4\n",
      "{'ner': 817.978220459788}\n",
      "Statring iteration 5\n",
      "{'ner': 778.7609022263665}\n",
      "Statring iteration 6\n",
      "{'ner': 752.768150036654}\n",
      "Statring iteration 7\n",
      "{'ner': 755.712430812053}\n",
      "Statring iteration 8\n",
      "{'ner': 705.5583908045076}\n",
      "Statring iteration 9\n",
      "{'ner': 742.7452282405407}\n",
      "Statring iteration 10\n",
      "{'ner': 728.5027583328007}\n",
      "Statring iteration 11\n",
      "{'ner': 727.1696668929867}\n",
      "Statring iteration 12\n",
      "{'ner': 794.4596677588722}\n",
      "Statring iteration 13\n",
      "{'ner': 818.0104156514883}\n",
      "Statring iteration 14\n",
      "{'ner': 830.7075164482013}\n",
      "Statring iteration 15\n",
      "{'ner': 711.5416357370383}\n",
      "Statring iteration 16\n",
      "{'ner': 727.2911968435827}\n",
      "Statring iteration 17\n",
      "{'ner': 731.3182166605158}\n",
      "Statring iteration 18\n",
      "{'ner': 804.0186626847529}\n",
      "Statring iteration 19\n",
      "{'ner': 680.8079006304291}\n",
      "Statring iteration 20\n",
      "{'ner': 788.4922622138891}\n",
      "Statring iteration 21\n",
      "{'ner': 701.6203980793599}\n",
      "Statring iteration 22\n",
      "{'ner': 727.0470123061187}\n",
      "Statring iteration 23\n",
      "{'ner': 649.2944789540892}\n",
      "Statring iteration 24\n",
      "{'ner': 738.7676489592119}\n"
     ]
    }
   ],
   "source": [
    "# Final training\n",
    "prdnlp = train_spacy(TRAIN_DATA,25)"
   ]
  },
  {
   "cell_type": "code",
   "execution_count": 13,
   "id": "19d0d16a",
   "metadata": {},
   "outputs": [
    {
     "name": "stdout",
     "output_type": "stream",
     "text": [
      "Enter your Model Name: ner-spacylg\n"
     ]
    }
   ],
   "source": [
    "# Save our trained Model\n",
    "modelfile = input(\"Enter your Model Name: \")\n",
    "prdnlp.to_disk(modelfile)\n"
   ]
  },
  {
   "cell_type": "code",
   "execution_count": 23,
   "id": "dffa4433",
   "metadata": {},
   "outputs": [
    {
     "name": "stdout",
     "output_type": "stream",
     "text": [
      "PERS : prophet_muhammad\n",
      "PERS : khadija bint khuwailid\n",
      "PERS : khadija\n",
      "PERS : allah\n",
      "PERS : allah\n"
     ]
    }
   ],
   "source": [
    "test_text = \"prophet_muhammad returned revelation with the inspiration and with his heart beating severely . then his went to khadija bint khuwailid and said , cover me ! cover me ! they covered his till his fear was over and after that his told her everything that had happened and said ,  i fear that something may happen to his . khadija replied ,  never ! by allah , allah will never disgrace you . you keep good relations with your kith and kin , help the poor and the destitute , serve your guests generously and assist the deserving calamity-afflicted ones\"\n",
    "doc = prdnlp(test_text)\n",
    "for ent in doc.ents:\n",
    "    print(ent.label_ +\" : \"+ ent.text)\n",
    "    "
   ]
  },
  {
   "cell_type": "code",
   "execution_count": 16,
   "id": "9a9f356a",
   "metadata": {},
   "outputs": [],
   "source": [
    "nlp = spacy.load(r\"C:\\Users\\Shameer\\Desktop\\sample_project\\ner-spacylg\")"
   ]
  },
  {
   "cell_type": "code",
   "execution_count": 19,
   "id": "bf76aed0",
   "metadata": {},
   "outputs": [],
   "source": [
    "doc = nlp( \"the angel came to him and asked him to read .\")"
   ]
  },
  {
   "cell_type": "code",
   "execution_count": 20,
   "id": "1e8ca09e",
   "metadata": {},
   "outputs": [
    {
     "name": "stdout",
     "output_type": "stream",
     "text": [
      "PRODUCT : angel came to him and asked him to read .\n"
     ]
    }
   ],
   "source": [
    "for ent in doc.ents:\n",
    "    print(ent.label_ +\" : \"+ ent.text)"
   ]
  },
  {
   "cell_type": "code",
   "execution_count": 70,
   "id": "1da954a3",
   "metadata": {},
   "outputs": [],
   "source": [
    "# Add neural coref to SpaCy's pipe\n",
    "import neuralcoref\n",
    "neuralcoref.add_to_pipe(prdnlp)"
   ]
  },
  {
   "cell_type": "code",
   "execution_count": 112,
   "id": "214c819d",
   "metadata": {},
   "outputs": [],
   "source": [
    "doc = prdnlp(u\" narrated jabir bin 'abdullah al-ansari,while talking about the period of pause in reporting the speech of the prophet_muhammad. while i was walking , all of a sudden i heard a voice from the sky . i looked up and saw the same angel who had visited me at the cave of hira sitting on a chair between the sky and the earth . i got afraid of angel and came back home and said , wrap me ( in blankets ) .  and then allah revealed the following holy verses ( of quran ) : you ( i.e . muhammad ) wrapped up in garments ! ' arise and warn ( the people against allah 's punishment ) , ... up to 'and desert the idols . ' ( 74.1-5 ) after this the revelation started coming strongly , frequently and regularly .\")"
   ]
  },
  {
   "cell_type": "code",
   "execution_count": 113,
   "id": "264f5c67",
   "metadata": {},
   "outputs": [
    {
     "data": {
      "text/plain": [
       "\" narrated jabir bin 'abdullah al-ansari,while talking about the period of pause in reporting the speech of the prophet_muhammad. while i was walking , all of a sudden i heard a voice from the sky . i looked up and saw the same angel who had visited me at the cave of hira sitting on a chair between the sky and the earth . i got afraid of angel and came back home and said , wrap me ( in blankets ) .  and then allah revealed the following holy verses ( of quran ) : you ( i.e . muhammad ) wrapped up in garments ! ' arise and warn ( the people against allah 's punishment ) , ... up to 'and desert the idols . ' ( 74.1-5 ) after this the revelation started coming strongly , frequently and regularly .\""
      ]
     },
     "execution_count": 113,
     "metadata": {},
     "output_type": "execute_result"
    }
   ],
   "source": [
    "doc._.coref_resolved"
   ]
  },
  {
   "cell_type": "code",
   "execution_count": 109,
   "id": "f909c467",
   "metadata": {},
   "outputs": [
    {
     "name": "stdout",
     "output_type": "stream",
     "text": [
      "PERS : jabir bin 'abdullah\n",
      "PERS : prophet_muhammad\n",
      "PERS : angel\n",
      "PLACE : cave of hira\n",
      "PERS : angel\n",
      "PERS : allah\n",
      "PERS : muhammad\n",
      "PERS : allah\n"
     ]
    }
   ],
   "source": [
    "for ent in doc.ents:\n",
    "    print(ent.label_ +\" : \"+ ent.text)"
   ]
  },
  {
   "cell_type": "code",
   "execution_count": 109,
   "id": "e53c9eb9",
   "metadata": {},
   "outputs": [
    {
     "data": {
      "text/plain": [
       "prophet_muhammad returned revelation with the inspiration and with his heart beating severely . then he went to khadija bint khuwailid and said , cover me ! cover me ! they covered him till his fear was over and after that he told her everything that had happened and said ,  i fear that something may happen to me . khadija replied ,  never ! by allah , allah will never disgrace you . you keep good relations with your kith and kin , help the poor and the destitute , serve your guests generously and assist the deserving calamity-afflicted ones ."
      ]
     },
     "execution_count": 109,
     "metadata": {},
     "output_type": "execute_result"
    }
   ],
   "source": [
    "doc"
   ]
  },
  {
   "cell_type": "code",
   "execution_count": null,
   "id": "27829ca8",
   "metadata": {},
   "outputs": [],
   "source": []
  }
 ],
 "metadata": {
  "kernelspec": {
   "display_name": "Python 3 (ipykernel)",
   "language": "python",
   "name": "python3"
  },
  "language_info": {
   "codemirror_mode": {
    "name": "ipython",
    "version": 3
   },
   "file_extension": ".py",
   "mimetype": "text/x-python",
   "name": "python",
   "nbconvert_exporter": "python",
   "pygments_lexer": "ipython3",
   "version": "3.7.11"
  }
 },
 "nbformat": 4,
 "nbformat_minor": 5
}
